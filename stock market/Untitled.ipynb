{
 "cells": [
  {
   "cell_type": "code",
   "execution_count": 83,
   "id": "5b8b0f49",
   "metadata": {},
   "outputs": [],
   "source": [
    "import yfinance as yf"
   ]
  },
  {
   "cell_type": "code",
   "execution_count": 84,
   "id": "6df120b8",
   "metadata": {},
   "outputs": [],
   "source": [
    "sp500=yf.Ticker(\"^GSPC\")"
   ]
  },
  {
   "cell_type": "code",
   "execution_count": 85,
   "id": "193e13c1",
   "metadata": {},
   "outputs": [],
   "source": [
    "sp500=sp500.history(period=\"max\")"
   ]
  },
  {
   "cell_type": "code",
   "execution_count": 86,
   "id": "52346931",
   "metadata": {},
   "outputs": [
    {
     "data": {
      "text/html": [
       "<div>\n",
       "<style scoped>\n",
       "    .dataframe tbody tr th:only-of-type {\n",
       "        vertical-align: middle;\n",
       "    }\n",
       "\n",
       "    .dataframe tbody tr th {\n",
       "        vertical-align: top;\n",
       "    }\n",
       "\n",
       "    .dataframe thead th {\n",
       "        text-align: right;\n",
       "    }\n",
       "</style>\n",
       "<table border=\"1\" class=\"dataframe\">\n",
       "  <thead>\n",
       "    <tr style=\"text-align: right;\">\n",
       "      <th></th>\n",
       "      <th>Open</th>\n",
       "      <th>High</th>\n",
       "      <th>Low</th>\n",
       "      <th>Close</th>\n",
       "      <th>Volume</th>\n",
       "      <th>Dividends</th>\n",
       "      <th>Stock Splits</th>\n",
       "    </tr>\n",
       "    <tr>\n",
       "      <th>Date</th>\n",
       "      <th></th>\n",
       "      <th></th>\n",
       "      <th></th>\n",
       "      <th></th>\n",
       "      <th></th>\n",
       "      <th></th>\n",
       "      <th></th>\n",
       "    </tr>\n",
       "  </thead>\n",
       "  <tbody>\n",
       "    <tr>\n",
       "      <th>1950-01-03</th>\n",
       "      <td>16.660000</td>\n",
       "      <td>16.660000</td>\n",
       "      <td>16.660000</td>\n",
       "      <td>16.660000</td>\n",
       "      <td>1260000</td>\n",
       "      <td>0</td>\n",
       "      <td>0</td>\n",
       "    </tr>\n",
       "    <tr>\n",
       "      <th>1950-01-04</th>\n",
       "      <td>16.850000</td>\n",
       "      <td>16.850000</td>\n",
       "      <td>16.850000</td>\n",
       "      <td>16.850000</td>\n",
       "      <td>1890000</td>\n",
       "      <td>0</td>\n",
       "      <td>0</td>\n",
       "    </tr>\n",
       "    <tr>\n",
       "      <th>1950-01-05</th>\n",
       "      <td>16.930000</td>\n",
       "      <td>16.930000</td>\n",
       "      <td>16.930000</td>\n",
       "      <td>16.930000</td>\n",
       "      <td>2550000</td>\n",
       "      <td>0</td>\n",
       "      <td>0</td>\n",
       "    </tr>\n",
       "    <tr>\n",
       "      <th>1950-01-06</th>\n",
       "      <td>16.980000</td>\n",
       "      <td>16.980000</td>\n",
       "      <td>16.980000</td>\n",
       "      <td>16.980000</td>\n",
       "      <td>2010000</td>\n",
       "      <td>0</td>\n",
       "      <td>0</td>\n",
       "    </tr>\n",
       "    <tr>\n",
       "      <th>1950-01-09</th>\n",
       "      <td>17.080000</td>\n",
       "      <td>17.080000</td>\n",
       "      <td>17.080000</td>\n",
       "      <td>17.080000</td>\n",
       "      <td>2520000</td>\n",
       "      <td>0</td>\n",
       "      <td>0</td>\n",
       "    </tr>\n",
       "    <tr>\n",
       "      <th>...</th>\n",
       "      <td>...</td>\n",
       "      <td>...</td>\n",
       "      <td>...</td>\n",
       "      <td>...</td>\n",
       "      <td>...</td>\n",
       "      <td>...</td>\n",
       "      <td>...</td>\n",
       "    </tr>\n",
       "    <tr>\n",
       "      <th>2022-08-10</th>\n",
       "      <td>4181.020020</td>\n",
       "      <td>4211.029785</td>\n",
       "      <td>4177.259766</td>\n",
       "      <td>4210.240234</td>\n",
       "      <td>3998590000</td>\n",
       "      <td>0</td>\n",
       "      <td>0</td>\n",
       "    </tr>\n",
       "    <tr>\n",
       "      <th>2022-08-11</th>\n",
       "      <td>4227.399902</td>\n",
       "      <td>4257.910156</td>\n",
       "      <td>4201.410156</td>\n",
       "      <td>4207.270020</td>\n",
       "      <td>3925060000</td>\n",
       "      <td>0</td>\n",
       "      <td>0</td>\n",
       "    </tr>\n",
       "    <tr>\n",
       "      <th>2022-08-12</th>\n",
       "      <td>4225.020020</td>\n",
       "      <td>4280.470215</td>\n",
       "      <td>4219.779785</td>\n",
       "      <td>4280.149902</td>\n",
       "      <td>3252290000</td>\n",
       "      <td>0</td>\n",
       "      <td>0</td>\n",
       "    </tr>\n",
       "    <tr>\n",
       "      <th>2022-08-15</th>\n",
       "      <td>4269.370117</td>\n",
       "      <td>4301.790039</td>\n",
       "      <td>4256.899902</td>\n",
       "      <td>4297.140137</td>\n",
       "      <td>3087740000</td>\n",
       "      <td>0</td>\n",
       "      <td>0</td>\n",
       "    </tr>\n",
       "    <tr>\n",
       "      <th>2022-08-16</th>\n",
       "      <td>4290.459961</td>\n",
       "      <td>4325.279785</td>\n",
       "      <td>4277.770020</td>\n",
       "      <td>4305.200195</td>\n",
       "      <td>3792010000</td>\n",
       "      <td>0</td>\n",
       "      <td>0</td>\n",
       "    </tr>\n",
       "  </tbody>\n",
       "</table>\n",
       "<p>18274 rows × 7 columns</p>\n",
       "</div>"
      ],
      "text/plain": [
       "                   Open         High          Low        Close      Volume  \\\n",
       "Date                                                                         \n",
       "1950-01-03    16.660000    16.660000    16.660000    16.660000     1260000   \n",
       "1950-01-04    16.850000    16.850000    16.850000    16.850000     1890000   \n",
       "1950-01-05    16.930000    16.930000    16.930000    16.930000     2550000   \n",
       "1950-01-06    16.980000    16.980000    16.980000    16.980000     2010000   \n",
       "1950-01-09    17.080000    17.080000    17.080000    17.080000     2520000   \n",
       "...                 ...          ...          ...          ...         ...   \n",
       "2022-08-10  4181.020020  4211.029785  4177.259766  4210.240234  3998590000   \n",
       "2022-08-11  4227.399902  4257.910156  4201.410156  4207.270020  3925060000   \n",
       "2022-08-12  4225.020020  4280.470215  4219.779785  4280.149902  3252290000   \n",
       "2022-08-15  4269.370117  4301.790039  4256.899902  4297.140137  3087740000   \n",
       "2022-08-16  4290.459961  4325.279785  4277.770020  4305.200195  3792010000   \n",
       "\n",
       "            Dividends  Stock Splits  \n",
       "Date                                 \n",
       "1950-01-03          0             0  \n",
       "1950-01-04          0             0  \n",
       "1950-01-05          0             0  \n",
       "1950-01-06          0             0  \n",
       "1950-01-09          0             0  \n",
       "...               ...           ...  \n",
       "2022-08-10          0             0  \n",
       "2022-08-11          0             0  \n",
       "2022-08-12          0             0  \n",
       "2022-08-15          0             0  \n",
       "2022-08-16          0             0  \n",
       "\n",
       "[18274 rows x 7 columns]"
      ]
     },
     "execution_count": 86,
     "metadata": {},
     "output_type": "execute_result"
    }
   ],
   "source": [
    "import pandas as pd\n",
    "import numpy as np\n",
    "import matplotlib.pyplot as mpl\n",
    "import seaborn as ab\n",
    "sp500"
   ]
  },
  {
   "cell_type": "code",
   "execution_count": 88,
   "id": "59f988ad",
   "metadata": {},
   "outputs": [
    {
     "data": {
      "text/plain": [
       "DatetimeIndex(['1950-01-03', '1950-01-04', '1950-01-05', '1950-01-06',\n",
       "               '1950-01-09', '1950-01-10', '1950-01-11', '1950-01-12',\n",
       "               '1950-01-13', '1950-01-16',\n",
       "               ...\n",
       "               '2022-08-03', '2022-08-04', '2022-08-05', '2022-08-08',\n",
       "               '2022-08-09', '2022-08-10', '2022-08-11', '2022-08-12',\n",
       "               '2022-08-15', '2022-08-16'],\n",
       "              dtype='datetime64[ns]', name='Date', length=18274, freq=None)"
      ]
     },
     "execution_count": 88,
     "metadata": {},
     "output_type": "execute_result"
    }
   ],
   "source": [
    "sp500.index"
   ]
  },
  {
   "cell_type": "code",
   "execution_count": 89,
   "id": "27ac4550",
   "metadata": {},
   "outputs": [
    {
     "data": {
      "text/plain": [
       "Open            0\n",
       "High            0\n",
       "Low             0\n",
       "Close           0\n",
       "Volume          0\n",
       "Dividends       0\n",
       "Stock Splits    0\n",
       "dtype: int64"
      ]
     },
     "execution_count": 89,
     "metadata": {},
     "output_type": "execute_result"
    }
   ],
   "source": [
    "sp500.isnull().sum()"
   ]
  },
  {
   "cell_type": "code",
   "execution_count": 90,
   "id": "38f97c85",
   "metadata": {},
   "outputs": [
    {
     "data": {
      "text/plain": [
       "True"
      ]
     },
     "execution_count": 90,
     "metadata": {},
     "output_type": "execute_result"
    }
   ],
   "source": [
    "sp500.duplicated().any()"
   ]
  },
  {
   "cell_type": "code",
   "execution_count": null,
   "id": "84efe822",
   "metadata": {},
   "outputs": [],
   "source": [
    "## sp500.to_csv(\"Stock sp 500\") in order mae new csvfile outof downloaded data"
   ]
  },
  {
   "cell_type": "code",
   "execution_count": 91,
   "id": "c8564cd2",
   "metadata": {},
   "outputs": [
    {
     "data": {
      "text/html": [
       "<div>\n",
       "<style scoped>\n",
       "    .dataframe tbody tr th:only-of-type {\n",
       "        vertical-align: middle;\n",
       "    }\n",
       "\n",
       "    .dataframe tbody tr th {\n",
       "        vertical-align: top;\n",
       "    }\n",
       "\n",
       "    .dataframe thead th {\n",
       "        text-align: right;\n",
       "    }\n",
       "</style>\n",
       "<table border=\"1\" class=\"dataframe\">\n",
       "  <thead>\n",
       "    <tr style=\"text-align: right;\">\n",
       "      <th></th>\n",
       "      <th>Open</th>\n",
       "      <th>High</th>\n",
       "      <th>Low</th>\n",
       "      <th>Close</th>\n",
       "      <th>Volume</th>\n",
       "      <th>Dividends</th>\n",
       "      <th>Stock Splits</th>\n",
       "    </tr>\n",
       "  </thead>\n",
       "  <tbody>\n",
       "    <tr>\n",
       "      <th>count</th>\n",
       "      <td>18274.000000</td>\n",
       "      <td>18274.000000</td>\n",
       "      <td>18274.000000</td>\n",
       "      <td>18274.000000</td>\n",
       "      <td>1.827400e+04</td>\n",
       "      <td>18274.0</td>\n",
       "      <td>18274.0</td>\n",
       "    </tr>\n",
       "    <tr>\n",
       "      <th>mean</th>\n",
       "      <td>693.670642</td>\n",
       "      <td>724.261287</td>\n",
       "      <td>715.394671</td>\n",
       "      <td>720.120054</td>\n",
       "      <td>1.077764e+09</td>\n",
       "      <td>0.0</td>\n",
       "      <td>0.0</td>\n",
       "    </tr>\n",
       "    <tr>\n",
       "      <th>std</th>\n",
       "      <td>962.400656</td>\n",
       "      <td>949.509526</td>\n",
       "      <td>938.510072</td>\n",
       "      <td>944.391321</td>\n",
       "      <td>1.676617e+09</td>\n",
       "      <td>0.0</td>\n",
       "      <td>0.0</td>\n",
       "    </tr>\n",
       "    <tr>\n",
       "      <th>min</th>\n",
       "      <td>0.000000</td>\n",
       "      <td>16.660000</td>\n",
       "      <td>16.660000</td>\n",
       "      <td>16.660000</td>\n",
       "      <td>6.800000e+05</td>\n",
       "      <td>0.0</td>\n",
       "      <td>0.0</td>\n",
       "    </tr>\n",
       "    <tr>\n",
       "      <th>25%</th>\n",
       "      <td>0.000000</td>\n",
       "      <td>88.392500</td>\n",
       "      <td>86.940002</td>\n",
       "      <td>87.642500</td>\n",
       "      <td>9.902500e+06</td>\n",
       "      <td>0.0</td>\n",
       "      <td>0.0</td>\n",
       "    </tr>\n",
       "    <tr>\n",
       "      <th>50%</th>\n",
       "      <td>234.935005</td>\n",
       "      <td>236.520004</td>\n",
       "      <td>233.430000</td>\n",
       "      <td>235.074997</td>\n",
       "      <td>1.266150e+08</td>\n",
       "      <td>0.0</td>\n",
       "      <td>0.0</td>\n",
       "    </tr>\n",
       "    <tr>\n",
       "      <th>75%</th>\n",
       "      <td>1176.727478</td>\n",
       "      <td>1184.015015</td>\n",
       "      <td>1167.794952</td>\n",
       "      <td>1176.602478</td>\n",
       "      <td>1.553400e+09</td>\n",
       "      <td>0.0</td>\n",
       "      <td>0.0</td>\n",
       "    </tr>\n",
       "    <tr>\n",
       "      <th>max</th>\n",
       "      <td>4804.509766</td>\n",
       "      <td>4818.620117</td>\n",
       "      <td>4780.040039</td>\n",
       "      <td>4796.560059</td>\n",
       "      <td>1.145623e+10</td>\n",
       "      <td>0.0</td>\n",
       "      <td>0.0</td>\n",
       "    </tr>\n",
       "  </tbody>\n",
       "</table>\n",
       "</div>"
      ],
      "text/plain": [
       "               Open          High           Low         Close        Volume  \\\n",
       "count  18274.000000  18274.000000  18274.000000  18274.000000  1.827400e+04   \n",
       "mean     693.670642    724.261287    715.394671    720.120054  1.077764e+09   \n",
       "std      962.400656    949.509526    938.510072    944.391321  1.676617e+09   \n",
       "min        0.000000     16.660000     16.660000     16.660000  6.800000e+05   \n",
       "25%        0.000000     88.392500     86.940002     87.642500  9.902500e+06   \n",
       "50%      234.935005    236.520004    233.430000    235.074997  1.266150e+08   \n",
       "75%     1176.727478   1184.015015   1167.794952   1176.602478  1.553400e+09   \n",
       "max     4804.509766   4818.620117   4780.040039   4796.560059  1.145623e+10   \n",
       "\n",
       "       Dividends  Stock Splits  \n",
       "count    18274.0       18274.0  \n",
       "mean         0.0           0.0  \n",
       "std          0.0           0.0  \n",
       "min          0.0           0.0  \n",
       "25%          0.0           0.0  \n",
       "50%          0.0           0.0  \n",
       "75%          0.0           0.0  \n",
       "max          0.0           0.0  "
      ]
     },
     "execution_count": 91,
     "metadata": {},
     "output_type": "execute_result"
    }
   ],
   "source": [
    "sp500.describe()"
   ]
  },
  {
   "cell_type": "code",
   "execution_count": 92,
   "id": "2ae02688",
   "metadata": {},
   "outputs": [
    {
     "data": {
      "text/plain": [
       "<AxesSubplot:xlabel='Date'>"
      ]
     },
     "execution_count": 92,
     "metadata": {},
     "output_type": "execute_result"
    },
    {
     "data": {
      "image/png": "[encoded data removed]",
      "text/plain": [
       "<Figure size 432x288 with 1 Axes>"
      ]
     },
     "metadata": {
      "needs_background": "light"
     },
     "output_type": "display_data"
    }
   ],
   "source": [
    "sp500.plot.line(y='Close',use_index=True)"
   ]
  },
  {
   "cell_type": "code",
   "execution_count": 93,
   "id": "b67396f4",
   "metadata": {},
   "outputs": [],
   "source": [
    "del sp500[\"Dividends\"]  #delete unnessary data"
   ]
  },
  {
   "cell_type": "code",
   "execution_count": 94,
   "id": "bc2c6236",
   "metadata": {},
   "outputs": [],
   "source": [
    "del sp500[\"Stock Splits\"]"
   ]
  },
  {
   "cell_type": "code",
   "execution_count": 95,
   "id": "3044ec9b",
   "metadata": {},
   "outputs": [
    {
     "data": {
      "text/html": [
       "<div>\n",
       "<style scoped>\n",
       "    .dataframe tbody tr th:only-of-type {\n",
       "        vertical-align: middle;\n",
       "    }\n",
       "\n",
       "    .dataframe tbody tr th {\n",
       "        vertical-align: top;\n",
       "    }\n",
       "\n",
       "    .dataframe thead th {\n",
       "        text-align: right;\n",
       "    }\n",
       "</style>\n",
       "<table border=\"1\" class=\"dataframe\">\n",
       "  <thead>\n",
       "    <tr style=\"text-align: right;\">\n",
       "      <th></th>\n",
       "      <th>Open</th>\n",
       "      <th>High</th>\n",
       "      <th>Low</th>\n",
       "      <th>Close</th>\n",
       "      <th>Volume</th>\n",
       "    </tr>\n",
       "    <tr>\n",
       "      <th>Date</th>\n",
       "      <th></th>\n",
       "      <th></th>\n",
       "      <th></th>\n",
       "      <th></th>\n",
       "      <th></th>\n",
       "    </tr>\n",
       "  </thead>\n",
       "  <tbody>\n",
       "    <tr>\n",
       "      <th>1950-01-03</th>\n",
       "      <td>16.660000</td>\n",
       "      <td>16.660000</td>\n",
       "      <td>16.660000</td>\n",
       "      <td>16.660000</td>\n",
       "      <td>1260000</td>\n",
       "    </tr>\n",
       "    <tr>\n",
       "      <th>1950-01-04</th>\n",
       "      <td>16.850000</td>\n",
       "      <td>16.850000</td>\n",
       "      <td>16.850000</td>\n",
       "      <td>16.850000</td>\n",
       "      <td>1890000</td>\n",
       "    </tr>\n",
       "    <tr>\n",
       "      <th>1950-01-05</th>\n",
       "      <td>16.930000</td>\n",
       "      <td>16.930000</td>\n",
       "      <td>16.930000</td>\n",
       "      <td>16.930000</td>\n",
       "      <td>2550000</td>\n",
       "    </tr>\n",
       "    <tr>\n",
       "      <th>1950-01-06</th>\n",
       "      <td>16.980000</td>\n",
       "      <td>16.980000</td>\n",
       "      <td>16.980000</td>\n",
       "      <td>16.980000</td>\n",
       "      <td>2010000</td>\n",
       "    </tr>\n",
       "    <tr>\n",
       "      <th>1950-01-09</th>\n",
       "      <td>17.080000</td>\n",
       "      <td>17.080000</td>\n",
       "      <td>17.080000</td>\n",
       "      <td>17.080000</td>\n",
       "      <td>2520000</td>\n",
       "    </tr>\n",
       "    <tr>\n",
       "      <th>...</th>\n",
       "      <td>...</td>\n",
       "      <td>...</td>\n",
       "      <td>...</td>\n",
       "      <td>...</td>\n",
       "      <td>...</td>\n",
       "    </tr>\n",
       "    <tr>\n",
       "      <th>2022-08-10</th>\n",
       "      <td>4181.020020</td>\n",
       "      <td>4211.029785</td>\n",
       "      <td>4177.259766</td>\n",
       "      <td>4210.240234</td>\n",
       "      <td>3998590000</td>\n",
       "    </tr>\n",
       "    <tr>\n",
       "      <th>2022-08-11</th>\n",
       "      <td>4227.399902</td>\n",
       "      <td>4257.910156</td>\n",
       "      <td>4201.410156</td>\n",
       "      <td>4207.270020</td>\n",
       "      <td>3925060000</td>\n",
       "    </tr>\n",
       "    <tr>\n",
       "      <th>2022-08-12</th>\n",
       "      <td>4225.020020</td>\n",
       "      <td>4280.470215</td>\n",
       "      <td>4219.779785</td>\n",
       "      <td>4280.149902</td>\n",
       "      <td>3252290000</td>\n",
       "    </tr>\n",
       "    <tr>\n",
       "      <th>2022-08-15</th>\n",
       "      <td>4269.370117</td>\n",
       "      <td>4301.790039</td>\n",
       "      <td>4256.899902</td>\n",
       "      <td>4297.140137</td>\n",
       "      <td>3087740000</td>\n",
       "    </tr>\n",
       "    <tr>\n",
       "      <th>2022-08-16</th>\n",
       "      <td>4290.459961</td>\n",
       "      <td>4325.279785</td>\n",
       "      <td>4277.770020</td>\n",
       "      <td>4305.200195</td>\n",
       "      <td>3792010000</td>\n",
       "    </tr>\n",
       "  </tbody>\n",
       "</table>\n",
       "<p>18274 rows × 5 columns</p>\n",
       "</div>"
      ],
      "text/plain": [
       "                   Open         High          Low        Close      Volume\n",
       "Date                                                                      \n",
       "1950-01-03    16.660000    16.660000    16.660000    16.660000     1260000\n",
       "1950-01-04    16.850000    16.850000    16.850000    16.850000     1890000\n",
       "1950-01-05    16.930000    16.930000    16.930000    16.930000     2550000\n",
       "1950-01-06    16.980000    16.980000    16.980000    16.980000     2010000\n",
       "1950-01-09    17.080000    17.080000    17.080000    17.080000     2520000\n",
       "...                 ...          ...          ...          ...         ...\n",
       "2022-08-10  4181.020020  4211.029785  4177.259766  4210.240234  3998590000\n",
       "2022-08-11  4227.399902  4257.910156  4201.410156  4207.270020  3925060000\n",
       "2022-08-12  4225.020020  4280.470215  4219.779785  4280.149902  3252290000\n",
       "2022-08-15  4269.370117  4301.790039  4256.899902  4297.140137  3087740000\n",
       "2022-08-16  4290.459961  4325.279785  4277.770020  4305.200195  3792010000\n",
       "\n",
       "[18274 rows x 5 columns]"
      ]
     },
     "execution_count": 95,
     "metadata": {},
     "output_type": "execute_result"
    }
   ],
   "source": [
    "sp500"
   ]
  },
  {
   "cell_type": "code",
   "execution_count": 96,
   "id": "77336890",
   "metadata": {},
   "outputs": [],
   "source": [
    "sp500[\"Tommorow\"]=sp500[\"Close\"].shift(-1)"
   ]
  },
  {
   "cell_type": "code",
   "execution_count": 97,
   "id": "f0918b44",
   "metadata": {},
   "outputs": [
    {
     "data": {
      "text/html": [
       "<div>\n",
       "<style scoped>\n",
       "    .dataframe tbody tr th:only-of-type {\n",
       "        vertical-align: middle;\n",
       "    }\n",
       "\n",
       "    .dataframe tbody tr th {\n",
       "        vertical-align: top;\n",
       "    }\n",
       "\n",
       "    .dataframe thead th {\n",
       "        text-align: right;\n",
       "    }\n",
       "</style>\n",
       "<table border=\"1\" class=\"dataframe\">\n",
       "  <thead>\n",
       "    <tr style=\"text-align: right;\">\n",
       "      <th></th>\n",
       "      <th>Open</th>\n",
       "      <th>High</th>\n",
       "      <th>Low</th>\n",
       "      <th>Close</th>\n",
       "      <th>Volume</th>\n",
       "      <th>Tommorow</th>\n",
       "    </tr>\n",
       "    <tr>\n",
       "      <th>Date</th>\n",
       "      <th></th>\n",
       "      <th></th>\n",
       "      <th></th>\n",
       "      <th></th>\n",
       "      <th></th>\n",
       "      <th></th>\n",
       "    </tr>\n",
       "  </thead>\n",
       "  <tbody>\n",
       "    <tr>\n",
       "      <th>1950-01-03</th>\n",
       "      <td>16.660000</td>\n",
       "      <td>16.660000</td>\n",
       "      <td>16.660000</td>\n",
       "      <td>16.660000</td>\n",
       "      <td>1260000</td>\n",
       "      <td>16.850000</td>\n",
       "    </tr>\n",
       "    <tr>\n",
       "      <th>1950-01-04</th>\n",
       "      <td>16.850000</td>\n",
       "      <td>16.850000</td>\n",
       "      <td>16.850000</td>\n",
       "      <td>16.850000</td>\n",
       "      <td>1890000</td>\n",
       "      <td>16.930000</td>\n",
       "    </tr>\n",
       "    <tr>\n",
       "      <th>1950-01-05</th>\n",
       "      <td>16.930000</td>\n",
       "      <td>16.930000</td>\n",
       "      <td>16.930000</td>\n",
       "      <td>16.930000</td>\n",
       "      <td>2550000</td>\n",
       "      <td>16.980000</td>\n",
       "    </tr>\n",
       "    <tr>\n",
       "      <th>1950-01-06</th>\n",
       "      <td>16.980000</td>\n",
       "      <td>16.980000</td>\n",
       "      <td>16.980000</td>\n",
       "      <td>16.980000</td>\n",
       "      <td>2010000</td>\n",
       "      <td>17.080000</td>\n",
       "    </tr>\n",
       "    <tr>\n",
       "      <th>1950-01-09</th>\n",
       "      <td>17.080000</td>\n",
       "      <td>17.080000</td>\n",
       "      <td>17.080000</td>\n",
       "      <td>17.080000</td>\n",
       "      <td>2520000</td>\n",
       "      <td>17.030001</td>\n",
       "    </tr>\n",
       "    <tr>\n",
       "      <th>...</th>\n",
       "      <td>...</td>\n",
       "      <td>...</td>\n",
       "      <td>...</td>\n",
       "      <td>...</td>\n",
       "      <td>...</td>\n",
       "      <td>...</td>\n",
       "    </tr>\n",
       "    <tr>\n",
       "      <th>2022-08-10</th>\n",
       "      <td>4181.020020</td>\n",
       "      <td>4211.029785</td>\n",
       "      <td>4177.259766</td>\n",
       "      <td>4210.240234</td>\n",
       "      <td>3998590000</td>\n",
       "      <td>4207.270020</td>\n",
       "    </tr>\n",
       "    <tr>\n",
       "      <th>2022-08-11</th>\n",
       "      <td>4227.399902</td>\n",
       "      <td>4257.910156</td>\n",
       "      <td>4201.410156</td>\n",
       "      <td>4207.270020</td>\n",
       "      <td>3925060000</td>\n",
       "      <td>4280.149902</td>\n",
       "    </tr>\n",
       "    <tr>\n",
       "      <th>2022-08-12</th>\n",
       "      <td>4225.020020</td>\n",
       "      <td>4280.470215</td>\n",
       "      <td>4219.779785</td>\n",
       "      <td>4280.149902</td>\n",
       "      <td>3252290000</td>\n",
       "      <td>4297.140137</td>\n",
       "    </tr>\n",
       "    <tr>\n",
       "      <th>2022-08-15</th>\n",
       "      <td>4269.370117</td>\n",
       "      <td>4301.790039</td>\n",
       "      <td>4256.899902</td>\n",
       "      <td>4297.140137</td>\n",
       "      <td>3087740000</td>\n",
       "      <td>4305.200195</td>\n",
       "    </tr>\n",
       "    <tr>\n",
       "      <th>2022-08-16</th>\n",
       "      <td>4290.459961</td>\n",
       "      <td>4325.279785</td>\n",
       "      <td>4277.770020</td>\n",
       "      <td>4305.200195</td>\n",
       "      <td>3792010000</td>\n",
       "      <td>NaN</td>\n",
       "    </tr>\n",
       "  </tbody>\n",
       "</table>\n",
       "<p>18274 rows × 6 columns</p>\n",
       "</div>"
      ],
      "text/plain": [
       "                   Open         High          Low        Close      Volume  \\\n",
       "Date                                                                         \n",
       "1950-01-03    16.660000    16.660000    16.660000    16.660000     1260000   \n",
       "1950-01-04    16.850000    16.850000    16.850000    16.850000     1890000   \n",
       "1950-01-05    16.930000    16.930000    16.930000    16.930000     2550000   \n",
       "1950-01-06    16.980000    16.980000    16.980000    16.980000     2010000   \n",
       "1950-01-09    17.080000    17.080000    17.080000    17.080000     2520000   \n",
       "...                 ...          ...          ...          ...         ...   \n",
       "2022-08-10  4181.020020  4211.029785  4177.259766  4210.240234  3998590000   \n",
       "2022-08-11  4227.399902  4257.910156  4201.410156  4207.270020  3925060000   \n",
       "2022-08-12  4225.020020  4280.470215  4219.779785  4280.149902  3252290000   \n",
       "2022-08-15  4269.370117  4301.790039  4256.899902  4297.140137  3087740000   \n",
       "2022-08-16  4290.459961  4325.279785  4277.770020  4305.200195  3792010000   \n",
       "\n",
       "               Tommorow  \n",
       "Date                     \n",
       "1950-01-03    16.850000  \n",
       "1950-01-04    16.930000  \n",
       "1950-01-05    16.980000  \n",
       "1950-01-06    17.080000  \n",
       "1950-01-09    17.030001  \n",
       "...                 ...  \n",
       "2022-08-10  4207.270020  \n",
       "2022-08-11  4280.149902  \n",
       "2022-08-12  4297.140137  \n",
       "2022-08-15  4305.200195  \n",
       "2022-08-16          NaN  \n",
       "\n",
       "[18274 rows x 6 columns]"
      ]
     },
     "execution_count": 97,
     "metadata": {},
     "output_type": "execute_result"
    }
   ],
   "source": [
    "sp500"
   ]
  },
  {
   "cell_type": "code",
   "execution_count": 98,
   "id": "d6493ab2",
   "metadata": {},
   "outputs": [],
   "source": [
    "sp500[\"Target\"]=(sp500[\"Tommorow\"]>sp500[\"Close\"]).astype(int)"
   ]
  },
  {
   "cell_type": "code",
   "execution_count": 99,
   "id": "a9eb57aa",
   "metadata": {},
   "outputs": [
    {
     "data": {
      "text/html": [
       "<div>\n",
       "<style scoped>\n",
       "    .dataframe tbody tr th:only-of-type {\n",
       "        vertical-align: middle;\n",
       "    }\n",
       "\n",
       "    .dataframe tbody tr th {\n",
       "        vertical-align: top;\n",
       "    }\n",
       "\n",
       "    .dataframe thead th {\n",
       "        text-align: right;\n",
       "    }\n",
       "</style>\n",
       "<table border=\"1\" class=\"dataframe\">\n",
       "  <thead>\n",
       "    <tr style=\"text-align: right;\">\n",
       "      <th></th>\n",
       "      <th>Open</th>\n",
       "      <th>High</th>\n",
       "      <th>Low</th>\n",
       "      <th>Close</th>\n",
       "      <th>Volume</th>\n",
       "      <th>Tommorow</th>\n",
       "      <th>Target</th>\n",
       "    </tr>\n",
       "    <tr>\n",
       "      <th>Date</th>\n",
       "      <th></th>\n",
       "      <th></th>\n",
       "      <th></th>\n",
       "      <th></th>\n",
       "      <th></th>\n",
       "      <th></th>\n",
       "      <th></th>\n",
       "    </tr>\n",
       "  </thead>\n",
       "  <tbody>\n",
       "    <tr>\n",
       "      <th>1950-01-03</th>\n",
       "      <td>16.660000</td>\n",
       "      <td>16.660000</td>\n",
       "      <td>16.660000</td>\n",
       "      <td>16.660000</td>\n",
       "      <td>1260000</td>\n",
       "      <td>16.850000</td>\n",
       "      <td>1</td>\n",
       "    </tr>\n",
       "    <tr>\n",
       "      <th>1950-01-04</th>\n",
       "      <td>16.850000</td>\n",
       "      <td>16.850000</td>\n",
       "      <td>16.850000</td>\n",
       "      <td>16.850000</td>\n",
       "      <td>1890000</td>\n",
       "      <td>16.930000</td>\n",
       "      <td>1</td>\n",
       "    </tr>\n",
       "    <tr>\n",
       "      <th>1950-01-05</th>\n",
       "      <td>16.930000</td>\n",
       "      <td>16.930000</td>\n",
       "      <td>16.930000</td>\n",
       "      <td>16.930000</td>\n",
       "      <td>2550000</td>\n",
       "      <td>16.980000</td>\n",
       "      <td>1</td>\n",
       "    </tr>\n",
       "    <tr>\n",
       "      <th>1950-01-06</th>\n",
       "      <td>16.980000</td>\n",
       "      <td>16.980000</td>\n",
       "      <td>16.980000</td>\n",
       "      <td>16.980000</td>\n",
       "      <td>2010000</td>\n",
       "      <td>17.080000</td>\n",
       "      <td>1</td>\n",
       "    </tr>\n",
       "    <tr>\n",
       "      <th>1950-01-09</th>\n",
       "      <td>17.080000</td>\n",
       "      <td>17.080000</td>\n",
       "      <td>17.080000</td>\n",
       "      <td>17.080000</td>\n",
       "      <td>2520000</td>\n",
       "      <td>17.030001</td>\n",
       "      <td>0</td>\n",
       "    </tr>\n",
       "    <tr>\n",
       "      <th>...</th>\n",
       "      <td>...</td>\n",
       "      <td>...</td>\n",
       "      <td>...</td>\n",
       "      <td>...</td>\n",
       "      <td>...</td>\n",
       "      <td>...</td>\n",
       "      <td>...</td>\n",
       "    </tr>\n",
       "    <tr>\n",
       "      <th>2022-08-10</th>\n",
       "      <td>4181.020020</td>\n",
       "      <td>4211.029785</td>\n",
       "      <td>4177.259766</td>\n",
       "      <td>4210.240234</td>\n",
       "      <td>3998590000</td>\n",
       "      <td>4207.270020</td>\n",
       "      <td>0</td>\n",
       "    </tr>\n",
       "    <tr>\n",
       "      <th>2022-08-11</th>\n",
       "      <td>4227.399902</td>\n",
       "      <td>4257.910156</td>\n",
       "      <td>4201.410156</td>\n",
       "      <td>4207.270020</td>\n",
       "      <td>3925060000</td>\n",
       "      <td>4280.149902</td>\n",
       "      <td>1</td>\n",
       "    </tr>\n",
       "    <tr>\n",
       "      <th>2022-08-12</th>\n",
       "      <td>4225.020020</td>\n",
       "      <td>4280.470215</td>\n",
       "      <td>4219.779785</td>\n",
       "      <td>4280.149902</td>\n",
       "      <td>3252290000</td>\n",
       "      <td>4297.140137</td>\n",
       "      <td>1</td>\n",
       "    </tr>\n",
       "    <tr>\n",
       "      <th>2022-08-15</th>\n",
       "      <td>4269.370117</td>\n",
       "      <td>4301.790039</td>\n",
       "      <td>4256.899902</td>\n",
       "      <td>4297.140137</td>\n",
       "      <td>3087740000</td>\n",
       "      <td>4305.200195</td>\n",
       "      <td>1</td>\n",
       "    </tr>\n",
       "    <tr>\n",
       "      <th>2022-08-16</th>\n",
       "      <td>4290.459961</td>\n",
       "      <td>4325.279785</td>\n",
       "      <td>4277.770020</td>\n",
       "      <td>4305.200195</td>\n",
       "      <td>3792010000</td>\n",
       "      <td>NaN</td>\n",
       "      <td>0</td>\n",
       "    </tr>\n",
       "  </tbody>\n",
       "</table>\n",
       "<p>18274 rows × 7 columns</p>\n",
       "</div>"
      ],
      "text/plain": [
       "                   Open         High          Low        Close      Volume  \\\n",
       "Date                                                                         \n",
       "1950-01-03    16.660000    16.660000    16.660000    16.660000     1260000   \n",
       "1950-01-04    16.850000    16.850000    16.850000    16.850000     1890000   \n",
       "1950-01-05    16.930000    16.930000    16.930000    16.930000     2550000   \n",
       "1950-01-06    16.980000    16.980000    16.980000    16.980000     2010000   \n",
       "1950-01-09    17.080000    17.080000    17.080000    17.080000     2520000   \n",
       "...                 ...          ...          ...          ...         ...   \n",
       "2022-08-10  4181.020020  4211.029785  4177.259766  4210.240234  3998590000   \n",
       "2022-08-11  4227.399902  4257.910156  4201.410156  4207.270020  3925060000   \n",
       "2022-08-12  4225.020020  4280.470215  4219.779785  4280.149902  3252290000   \n",
       "2022-08-15  4269.370117  4301.790039  4256.899902  4297.140137  3087740000   \n",
       "2022-08-16  4290.459961  4325.279785  4277.770020  4305.200195  3792010000   \n",
       "\n",
       "               Tommorow  Target  \n",
       "Date                             \n",
       "1950-01-03    16.850000       1  \n",
       "1950-01-04    16.930000       1  \n",
       "1950-01-05    16.980000       1  \n",
       "1950-01-06    17.080000       1  \n",
       "1950-01-09    17.030001       0  \n",
       "...                 ...     ...  \n",
       "2022-08-10  4207.270020       0  \n",
       "2022-08-11  4280.149902       1  \n",
       "2022-08-12  4297.140137       1  \n",
       "2022-08-15  4305.200195       1  \n",
       "2022-08-16          NaN       0  \n",
       "\n",
       "[18274 rows x 7 columns]"
      ]
     },
     "execution_count": 99,
     "metadata": {},
     "output_type": "execute_result"
    }
   ],
   "source": [
    "sp500"
   ]
  },
  {
   "cell_type": "code",
   "execution_count": 100,
   "id": "75a4102a",
   "metadata": {},
   "outputs": [],
   "source": [
    "sp500c=sp500.loc[\"1992-01-01\":].copy()"
   ]
  },
  {
   "cell_type": "code",
   "execution_count": 101,
   "id": "5519e7c9",
   "metadata": {},
   "outputs": [
    {
     "data": {
      "text/html": [
       "<div>\n",
       "<style scoped>\n",
       "    .dataframe tbody tr th:only-of-type {\n",
       "        vertical-align: middle;\n",
       "    }\n",
       "\n",
       "    .dataframe tbody tr th {\n",
       "        vertical-align: top;\n",
       "    }\n",
       "\n",
       "    .dataframe thead th {\n",
       "        text-align: right;\n",
       "    }\n",
       "</style>\n",
       "<table border=\"1\" class=\"dataframe\">\n",
       "  <thead>\n",
       "    <tr style=\"text-align: right;\">\n",
       "      <th></th>\n",
       "      <th>Open</th>\n",
       "      <th>High</th>\n",
       "      <th>Low</th>\n",
       "      <th>Close</th>\n",
       "      <th>Volume</th>\n",
       "      <th>Tommorow</th>\n",
       "      <th>Target</th>\n",
       "    </tr>\n",
       "    <tr>\n",
       "      <th>Date</th>\n",
       "      <th></th>\n",
       "      <th></th>\n",
       "      <th></th>\n",
       "      <th></th>\n",
       "      <th></th>\n",
       "      <th></th>\n",
       "      <th></th>\n",
       "    </tr>\n",
       "  </thead>\n",
       "  <tbody>\n",
       "    <tr>\n",
       "      <th>1992-01-02</th>\n",
       "      <td>417.029999</td>\n",
       "      <td>417.269989</td>\n",
       "      <td>411.040009</td>\n",
       "      <td>417.260010</td>\n",
       "      <td>207570000</td>\n",
       "      <td>419.339996</td>\n",
       "      <td>1</td>\n",
       "    </tr>\n",
       "    <tr>\n",
       "      <th>1992-01-03</th>\n",
       "      <td>417.269989</td>\n",
       "      <td>419.790009</td>\n",
       "      <td>416.160004</td>\n",
       "      <td>419.339996</td>\n",
       "      <td>224270000</td>\n",
       "      <td>417.959991</td>\n",
       "      <td>0</td>\n",
       "    </tr>\n",
       "    <tr>\n",
       "      <th>1992-01-06</th>\n",
       "      <td>419.309998</td>\n",
       "      <td>419.440002</td>\n",
       "      <td>416.920013</td>\n",
       "      <td>417.959991</td>\n",
       "      <td>251210000</td>\n",
       "      <td>417.399994</td>\n",
       "      <td>0</td>\n",
       "    </tr>\n",
       "    <tr>\n",
       "      <th>1992-01-07</th>\n",
       "      <td>417.959991</td>\n",
       "      <td>417.959991</td>\n",
       "      <td>415.200012</td>\n",
       "      <td>417.399994</td>\n",
       "      <td>252780000</td>\n",
       "      <td>418.100006</td>\n",
       "      <td>1</td>\n",
       "    </tr>\n",
       "    <tr>\n",
       "      <th>1992-01-08</th>\n",
       "      <td>417.359985</td>\n",
       "      <td>420.230011</td>\n",
       "      <td>415.019989</td>\n",
       "      <td>418.100006</td>\n",
       "      <td>290750000</td>\n",
       "      <td>417.609985</td>\n",
       "      <td>0</td>\n",
       "    </tr>\n",
       "    <tr>\n",
       "      <th>...</th>\n",
       "      <td>...</td>\n",
       "      <td>...</td>\n",
       "      <td>...</td>\n",
       "      <td>...</td>\n",
       "      <td>...</td>\n",
       "      <td>...</td>\n",
       "      <td>...</td>\n",
       "    </tr>\n",
       "    <tr>\n",
       "      <th>2022-08-10</th>\n",
       "      <td>4181.020020</td>\n",
       "      <td>4211.029785</td>\n",
       "      <td>4177.259766</td>\n",
       "      <td>4210.240234</td>\n",
       "      <td>3998590000</td>\n",
       "      <td>4207.270020</td>\n",
       "      <td>0</td>\n",
       "    </tr>\n",
       "    <tr>\n",
       "      <th>2022-08-11</th>\n",
       "      <td>4227.399902</td>\n",
       "      <td>4257.910156</td>\n",
       "      <td>4201.410156</td>\n",
       "      <td>4207.270020</td>\n",
       "      <td>3925060000</td>\n",
       "      <td>4280.149902</td>\n",
       "      <td>1</td>\n",
       "    </tr>\n",
       "    <tr>\n",
       "      <th>2022-08-12</th>\n",
       "      <td>4225.020020</td>\n",
       "      <td>4280.470215</td>\n",
       "      <td>4219.779785</td>\n",
       "      <td>4280.149902</td>\n",
       "      <td>3252290000</td>\n",
       "      <td>4297.140137</td>\n",
       "      <td>1</td>\n",
       "    </tr>\n",
       "    <tr>\n",
       "      <th>2022-08-15</th>\n",
       "      <td>4269.370117</td>\n",
       "      <td>4301.790039</td>\n",
       "      <td>4256.899902</td>\n",
       "      <td>4297.140137</td>\n",
       "      <td>3087740000</td>\n",
       "      <td>4305.200195</td>\n",
       "      <td>1</td>\n",
       "    </tr>\n",
       "    <tr>\n",
       "      <th>2022-08-16</th>\n",
       "      <td>4290.459961</td>\n",
       "      <td>4325.279785</td>\n",
       "      <td>4277.770020</td>\n",
       "      <td>4305.200195</td>\n",
       "      <td>3792010000</td>\n",
       "      <td>NaN</td>\n",
       "      <td>0</td>\n",
       "    </tr>\n",
       "  </tbody>\n",
       "</table>\n",
       "<p>7714 rows × 7 columns</p>\n",
       "</div>"
      ],
      "text/plain": [
       "                   Open         High          Low        Close      Volume  \\\n",
       "Date                                                                         \n",
       "1992-01-02   417.029999   417.269989   411.040009   417.260010   207570000   \n",
       "1992-01-03   417.269989   419.790009   416.160004   419.339996   224270000   \n",
       "1992-01-06   419.309998   419.440002   416.920013   417.959991   251210000   \n",
       "1992-01-07   417.959991   417.959991   415.200012   417.399994   252780000   \n",
       "1992-01-08   417.359985   420.230011   415.019989   418.100006   290750000   \n",
       "...                 ...          ...          ...          ...         ...   \n",
       "2022-08-10  4181.020020  4211.029785  4177.259766  4210.240234  3998590000   \n",
       "2022-08-11  4227.399902  4257.910156  4201.410156  4207.270020  3925060000   \n",
       "2022-08-12  4225.020020  4280.470215  4219.779785  4280.149902  3252290000   \n",
       "2022-08-15  4269.370117  4301.790039  4256.899902  4297.140137  3087740000   \n",
       "2022-08-16  4290.459961  4325.279785  4277.770020  4305.200195  3792010000   \n",
       "\n",
       "               Tommorow  Target  \n",
       "Date                             \n",
       "1992-01-02   419.339996       1  \n",
       "1992-01-03   417.959991       0  \n",
       "1992-01-06   417.399994       0  \n",
       "1992-01-07   418.100006       1  \n",
       "1992-01-08   417.609985       0  \n",
       "...                 ...     ...  \n",
       "2022-08-10  4207.270020       0  \n",
       "2022-08-11  4280.149902       1  \n",
       "2022-08-12  4297.140137       1  \n",
       "2022-08-15  4305.200195       1  \n",
       "2022-08-16          NaN       0  \n",
       "\n",
       "[7714 rows x 7 columns]"
      ]
     },
     "execution_count": 101,
     "metadata": {},
     "output_type": "execute_result"
    }
   ],
   "source": [
    "sp500c"
   ]
  },
  {
   "cell_type": "code",
   "execution_count": 116,
   "id": "d277e702",
   "metadata": {},
   "outputs": [],
   "source": [
    "from sklearn.model_selection import train_test_split as tts\n",
    "from sklearn.metrics import accuracy_score as ac"
   ]
  },
  {
   "cell_type": "code",
   "execution_count": 166,
   "id": "d8a0fa61",
   "metadata": {},
   "outputs": [],
   "source": [
    "train=sp500c.iloc[:-100]"
   ]
  },
  {
   "cell_type": "code",
   "execution_count": 165,
   "id": "64fa37c1",
   "metadata": {},
   "outputs": [],
   "source": [
    "test=sp500c.iloc[-100:]\n",
    "#data is non linear use non linear clssifier"
   ]
  },
  {
   "cell_type": "code",
   "execution_count": 167,
   "id": "a41b6537",
   "metadata": {},
   "outputs": [],
   "source": [
    "from sklearn.ensemble import RandomForestClassifier\n",
    "rfc=RandomForestClassifier(n_estimators=100,min_samples_split=100,random_state=1)\n",
    "indicator=[\"Close\",\"Volume\",\"Open\",\"High\",\"Low\"]"
   ]
  },
  {
   "cell_type": "code",
   "execution_count": 168,
   "id": "118a06ec",
   "metadata": {},
   "outputs": [
    {
     "data": {
      "text/plain": [
       "RandomForestClassifier(min_samples_split=100, random_state=1)"
      ]
     },
     "execution_count": 168,
     "metadata": {},
     "output_type": "execute_result"
    }
   ],
   "source": [
    "rfc.fit(train[indicator],train[\"Target\"])"
   ]
  },
  {
   "cell_type": "code",
   "execution_count": 169,
   "id": "796a7823",
   "metadata": {},
   "outputs": [],
   "source": [
    "pred1=rfc.predict(test[indicator])"
   ]
  },
  {
   "cell_type": "code",
   "execution_count": 171,
   "id": "09640357",
   "metadata": {},
   "outputs": [
    {
     "data": {
      "text/plain": [
       "0.53"
      ]
     },
     "execution_count": 171,
     "metadata": {},
     "output_type": "execute_result"
    }
   ],
   "source": [
    "ac(pred1,test[\"Target\"])"
   ]
  },
  {
   "cell_type": "code",
   "execution_count": 172,
   "id": "fe2aa232",
   "metadata": {},
   "outputs": [],
   "source": [
    "# random forestclassifier is53% efective"
   ]
  },
  {
   "cell_type": "code",
   "execution_count": 178,
   "id": "c50018f6",
   "metadata": {},
   "outputs": [],
   "source": [
    "from sklearn.tree import DecisionTreeClassifier\n",
    "dtc=DecisionTreeClassifier()"
   ]
  },
  {
   "cell_type": "code",
   "execution_count": 179,
   "id": "3c6dc39d",
   "metadata": {},
   "outputs": [
    {
     "data": {
      "text/plain": [
       "DecisionTreeClassifier()"
      ]
     },
     "execution_count": 179,
     "metadata": {},
     "output_type": "execute_result"
    }
   ],
   "source": [
    "dtc.fit(train[indicator],train[\"Target\"])"
   ]
  },
  {
   "cell_type": "code",
   "execution_count": 183,
   "id": "0ad881b2",
   "metadata": {},
   "outputs": [],
   "source": [
    "pred2=dtc.predict(test[indicator])"
   ]
  },
  {
   "cell_type": "code",
   "execution_count": 184,
   "id": "9a260986",
   "metadata": {},
   "outputs": [
    {
     "data": {
      "text/plain": [
       "0.63"
      ]
     },
     "execution_count": 184,
     "metadata": {},
     "output_type": "execute_result"
    }
   ],
   "source": [
    "ac(pred2,test['Target'])"
   ]
  },
  {
   "cell_type": "code",
   "execution_count": 188,
   "id": "6c328be1",
   "metadata": {},
   "outputs": [],
   "source": [
    "pred2or=pd.Series(pred2,index=test.index) #organize data in order to plot"
   ]
  },
  {
   "cell_type": "code",
   "execution_count": 190,
   "id": "cd532e78",
   "metadata": {},
   "outputs": [
    {
     "data": {
      "text/plain": [
       "<AxesSubplot:xlabel='Date'>"
      ]
     },
     "execution_count": 190,
     "metadata": {},
     "output_type": "execute_result"
    },
    {
     "data": {
      "image/png": "[encoded data removed]",
      "text/plain": [
       "<Figure size 432x288 with 1 Axes>"
      ]
     },
     "metadata": {
      "needs_background": "light"
     },
     "output_type": "display_data"
    }
   ],
   "source": [
    "grph2=pd.concat([test[\"Target\"],pred2or],axis=1)\n",
    "grph2.plot()"
   ]
  },
  {
   "cell_type": "code",
   "execution_count": 185,
   "id": "fb9da4cf",
   "metadata": {},
   "outputs": [],
   "source": [
    "# dicison tree is 63% effective"
   ]
  },
  {
   "cell_type": "code",
   "execution_count": 196,
   "id": "9d2118ff",
   "metadata": {},
   "outputs": [],
   "source": [
    "# for vback testing random forest we create methord\n",
    "def  predict(train,test,indicator,rfc):\n",
    "    rfc.fit(train[indicator],train[\"Target\"])\n",
    "    pr=rfc.predict(test[indicator])\n",
    "    pr=pd.Series(pr,index=test.index,name=\"rfc predictor\")\n",
    "    combined=pd.concat([test[\"Target\"],pr],axis=1)\n",
    "    return combined"
   ]
  },
  {
   "cell_type": "code",
   "execution_count": 197,
   "id": "cf102b5d",
   "metadata": {},
   "outputs": [],
   "source": [
    "def backtest(data,rfc,indicator,start=2500,step=250):\n",
    "    allpre=[]\n",
    "    \n",
    "    for i in range(start,data.shape[0],step):\n",
    "        tr=data.iloc[0:i].copy()\n",
    "        ts=data.iloc[i:(i+step)].copy()\n",
    "        pr=predict(train,test,indicator,rfc)\n",
    "        allpre.append(pr)\n",
    "    return pd.concat(allpre)"
   ]
  },
  {
   "cell_type": "code",
   "execution_count": 198,
   "id": "24ee6e2f",
   "metadata": {},
   "outputs": [],
   "source": [
    "predi=backtest(sp500c,rfc,indicator)"
   ]
  },
  {
   "cell_type": "code",
   "execution_count": 204,
   "id": "a555f6bb",
   "metadata": {},
   "outputs": [
    {
     "data": {
      "text/plain": [
       "1    1554\n",
       "0     546\n",
       "Name: rfc predictor, dtype: int64"
      ]
     },
     "execution_count": 204,
     "metadata": {},
     "output_type": "execute_result"
    }
   ],
   "source": [
    "predi[\"rfc predictor\"].value_counts()"
   ]
  },
  {
   "cell_type": "code",
   "execution_count": 202,
   "id": "5e5e2bf7",
   "metadata": {},
   "outputs": [
    {
     "data": {
      "text/plain": [
       "1    0.74\n",
       "0    0.26\n",
       "Name: rfc predictor, dtype: float64"
      ]
     },
     "execution_count": 202,
     "metadata": {},
     "output_type": "execute_result"
    }
   ],
   "source": [
    "predi[\"rfc predictor\"].value_counts()/predi.shape[0]"
   ]
  },
  {
   "cell_type": "code",
   "execution_count": null,
   "id": "af4e0e99",
   "metadata": {},
   "outputs": [],
   "source": []
  },
  {
   "cell_type": "code",
   "execution_count": null,
   "id": "cedf4a41",
   "metadata": {},
   "outputs": [],
   "source": []
  }
 ],
 "metadata": {
  "kernelspec": {
   "display_name": "Python 3 (ipykernel)",
   "language": "python",
   "name": "python3"
  },
  "language_info": {
   "codemirror_mode": {
    "name": "ipython",
    "version": 3
   },
   "file_extension": ".py",
   "mimetype": "text/x-python",
   "name": "python",
   "nbconvert_exporter": "python",
   "pygments_lexer": "ipython3",
   "version": "3.9.7"
  }
 },
 "nbformat": 4,
 "nbformat_minor": 5
}
